{
 "cells": [
  {
   "cell_type": "code",
   "execution_count": 1,
   "metadata": {},
   "outputs": [
    {
     "name": "stderr",
     "output_type": "stream",
     "text": [
      "c:\\Python312\\Lib\\site-packages\\tqdm\\auto.py:21: TqdmWarning: IProgress not found. Please update jupyter and ipywidgets. See https://ipywidgets.readthedocs.io/en/stable/user_install.html\n",
      "  from .autonotebook import tqdm as notebook_tqdm\n",
      "2025-01-21 16:59:24,454 - __main__ - INFO - Loading models...\n",
      "2025-01-21 16:59:24,470 - root - INFO - Loading saved department classifier...\n",
      "2025-01-21 16:59:26,318 - root - INFO - Loading saved sentiment analyzer...\n",
      "2025-01-21 16:59:26,620 - __main__ - INFO - Models loaded successfully\n"
     ]
    }
   ],
   "source": [
    "from flask import Flask, request, jsonify\n",
    "from flask_cors import CORS\n",
    "import logging\n",
    "from pathlib import Path\n",
    "from Models.DepartementClassification import DepClassifier\n",
    "from Models.SentimentAnalysis import SentAnalyzer\n",
    "\n",
    "# Configure logging\n",
    "logging.basicConfig(\n",
    "    level=logging.INFO,\n",
    "    format='%(asctime)s - %(name)s - %(levelname)s - %(message)s'\n",
    ")\n",
    "logger = logging.getLogger(__name__)\n",
    "\n",
    "# Ensure saved_models directory exists\n",
    "Path(\"./saved_models\").mkdir(parents=True, exist_ok=True)\n",
    "\n",
    "app = Flask(__name__)\n",
    "CORS(app)\n",
    "\n",
    "# Initialize models\n",
    "try:\n",
    "    logger.info(\"Loading models...\")\n",
    "    department_model = DepClassifier()\n",
    "    priority_model = SentAnalyzer()\n",
    "    logger.info(\"Models loaded successfully\")\n",
    "except Exception as e:\n",
    "    logger.error(f\"Failed to load models: {str(e)}\")\n",
    "    raise"
   ]
  },
  {
   "cell_type": "code",
   "execution_count": 2,
   "metadata": {},
   "outputs": [],
   "source": [
    "\n",
    "@app.route('/predict_department', methods=['POST'])\n",
    "def predict_department():\n",
    "    try:\n",
    "        input_text = request.json.get('text', '')\n",
    "        if not input_text:\n",
    "            return jsonify({'error': 'No input text provided'}), 400\n",
    "\n",
    "        departments = [\"IT\", \"Finance\", \"HR\", \"Sales\"]\n",
    "        result = department_model.classify_ticket(input_text, departments)\n",
    "        return jsonify({'prediction': result})\n",
    "    except Exception as e:\n",
    "        logger.error(f\"Error in predict_department: {str(e)}\")\n",
    "        return jsonify({'error': str(e)}), 500"
   ]
  },
  {
   "cell_type": "code",
   "execution_count": 3,
   "metadata": {},
   "outputs": [],
   "source": [
    "@app.route('/predict_priority', methods=['POST'])\n",
    "def predict_priority():\n",
    "    try:\n",
    "        input_text = request.json.get('text', '')\n",
    "        if not input_text:\n",
    "            return jsonify({'error': 'No input text provided'}), 400\n",
    "\n",
    "        priority = priority_model.classify_priority(input_text)\n",
    "        return jsonify({\n",
    "            'prediction': priority,\n",
    "            'score': priority_model.score,\n",
    "            'label': priority_model.label\n",
    "        })\n",
    "    except Exception as e:\n",
    "        logger.error(f\"Error in predict_priority: {str(e)}\")\n",
    "        return jsonify({'error': str(e)}), 500"
   ]
  },
  {
   "cell_type": "code",
   "execution_count": 6,
   "metadata": {},
   "outputs": [
    {
     "name": "stdout",
     "output_type": "stream",
     "text": [
      " * Serving Flask app '__main__'\n",
      " * Debug mode: on\n"
     ]
    },
    {
     "name": "stderr",
     "output_type": "stream",
     "text": [
      "2025-01-21 17:01:27,177 - werkzeug - INFO - \u001b[31m\u001b[1mWARNING: This is a development server. Do not use it in a production deployment. Use a production WSGI server instead.\u001b[0m\n",
      " * Running on http://127.0.0.1:1701\n",
      "2025-01-21 17:01:27,177 - werkzeug - INFO - \u001b[33mPress CTRL+C to quit\u001b[0m\n",
      "2025-01-21 17:01:27,177 - werkzeug - INFO -  * Restarting with watchdog (windowsapi)\n"
     ]
    },
    {
     "ename": "SystemExit",
     "evalue": "1",
     "output_type": "error",
     "traceback": [
      "An exception has occurred, use %tb to see the full traceback.\n",
      "\u001b[1;31mSystemExit\u001b[0m\u001b[1;31m:\u001b[0m 1\n"
     ]
    }
   ],
   "source": [
    "if __name__ == '__main__':\n",
    "    app.run(debug=True, host='127.0.0.1', port=1701)"
   ]
  }
 ],
 "metadata": {
  "kernelspec": {
   "display_name": "Python 3",
   "language": "python",
   "name": "python3"
  },
  "language_info": {
   "codemirror_mode": {
    "name": "ipython",
    "version": 3
   },
   "file_extension": ".py",
   "mimetype": "text/x-python",
   "name": "python",
   "nbconvert_exporter": "python",
   "pygments_lexer": "ipython3",
   "version": "3.12.3"
  }
 },
 "nbformat": 4,
 "nbformat_minor": 2
}
